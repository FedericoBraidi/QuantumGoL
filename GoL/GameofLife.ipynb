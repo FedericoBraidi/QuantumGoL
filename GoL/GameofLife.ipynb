{
 "cells": [
  {
   "cell_type": "markdown",
   "metadata": {},
   "source": [
    "# Game of Life"
   ]
  },
  {
   "cell_type": "markdown",
   "metadata": {},
   "source": [
    "## Classical version"
   ]
  },
  {
   "cell_type": "markdown",
   "metadata": {},
   "source": [
    "Conway's Game of Life is a cellular automaton, a mathematical model that describes the dynamics of complex systems through the evolution of a grid of cells based on a set of well-defined rules. It was first formulated by the British mathematician John Conway in 1970; at its core, the Game of Life operates on a two-dimensional grid, where each cell (which we will refer to using $S_{i,j}$) is in one of two states - alive (1) or dead (0). The evolution of the system is based on discrete time steps, also known as generations, where the state of each cell is determined by its 8 neighbouring cells (called Moore's neighbours).\n",
    "\n",
    "The rules of the Game of Life are the following:\n",
    "\n",
    "1. **Underpopulation:**\n",
    "   - If a live cell ($S_{i,j} = 1$) has fewer than two live neighbours, it dies in the next generation.\n",
    "   - Mathematical expression: $S_{i,j}^{(t+1)} = 0$ if $S_{i,j}^{(t)} = 1$ and $\\sum_{k,l} S_{k,l}^{(t)} < 2$, where $k, l$ are the indices of neighbouring cells.\n",
    "\n",
    "2. **Survival:**\n",
    "   - If a live cell has two or three live neighbours, it survives to the next generation.\n",
    "   - Mathematical expression: $S_{i,j}^{(t+1)} = S_{i,j}^{(t)}$ if $S_{i,j}^{(t)} = 1$ and $2 \\leq \\sum_{k,l} S_{k,l}^{(t)} \\leq 3$.\n",
    "\n",
    "3. **Overpopulation:**\n",
    "   - If a live cell has more than three live neighbuors, it dies in the next generation.\n",
    "   - Mathematical expression: $S_{i,j}^{(t+1)} = 0$ if $S_{i,j}^{(t)} = 1$ and $\\sum_{k,l} S_{k,l}^{(t)} > 3$.\n",
    "\n",
    "4. **Reproduction:**\n",
    "   - If a dead cell ($S_{i,j} = 0$) has exactly three live neighbours, it becomes alive in the next generation.\n",
    "   - Mathematical expression: $S_{i,j}^{(t+1)} = 1$ if $S_{i,j}^{(t)} = 0$ and $\\sum_{k,l} S_{k,l}^{(t)} = 3$.\n",
    "\n",
    "Beyond its theoretical elegance, the Game of Life has practical applications in various scientific domains, including computer science, biology, and physics. Cellular automata, inspired by Conway's creation, continue to influence fields such as cryptography, image processing, and the simulation of natural phenomena. This set of rules mimics indeed the evolution of bacteria due to environmental conditions: if the environment is overpopulated or underpopulated the bacteria dies, while it reproduces if the conditions are optimal."
   ]
  },
  {
   "cell_type": "markdown",
   "metadata": {},
   "source": [
    "## Code"
   ]
  },
  {
   "cell_type": "markdown",
   "metadata": {},
   "source": [
    "### Import zone"
   ]
  },
  {
   "cell_type": "code",
   "execution_count": 1,
   "metadata": {},
   "outputs": [],
   "source": [
    "import numpy as np\n",
    "import os\n",
    "import matplotlib.pyplot as plt\n",
    "import matplotlib.animation as anim"
   ]
  },
  {
   "cell_type": "markdown",
   "metadata": {},
   "source": [
    "The external libraries we utilized are the following:\n",
    "\n",
    "1. **NumPy:**\n",
    "   NumPy is used for efficient array manipulations, numerical operations, and handling the grid structure required for the Game of Life simulation.\n",
    "\n",
    "2. **Operating System Module:**\n",
    "   The `os` module is utilized for interacting with the operating system. In particular we use it in constructing file paths and checking the current working directory, which allows us to keep the work environment more clean: we store and access the pattern file that defines the initial state of the Game of Life in another directory (called 'patterns'), while the output images are stored in the directory 'outputs'. \n",
    "\n",
    "3. **Matplotlib Pyplot:**\n",
    "   Matplotlib.pyplot is utilized for creating visual representations of the evolving Game of Life grid.\n",
    "\n",
    "4. **Matplotlib Animation Module:**\n",
    "   The `animation` module from Matplotlib is specifically imported to leverage its capabilities in creating dynamic animations: in particular it enables the visualization of the Game of Life's evolution over multiple steps, contributing to a more comprehensive understanding of the cellular automaton's behavior.\n"
   ]
  },
  {
   "cell_type": "markdown",
   "metadata": {},
   "source": [
    "### Parameters zone"
   ]
  },
  {
   "cell_type": "code",
   "execution_count": 2,
   "metadata": {},
   "outputs": [],
   "source": [
    "x_dim=10\n",
    "y_dim=10\n",
    "pattern_name=\"prova\"\n",
    "evo_steps=5\n",
    "time_per_image=0.5"
   ]
  },
  {
   "cell_type": "markdown",
   "metadata": {},
   "source": [
    "In this zone we define the most significant parameters of our simulation:\n",
    "\n",
    "1. **x_dim and y_dim:**\n",
    "These variables define the dimensions of the grid in the x and y directions, so they determine the size of the simulated space where the Game of Life will evolve: we started with a small dimension and then proceeded to a bigger grid.\n",
    "\n",
    "2. **pattern_name:**\n",
    "The `pattern_name` variable holds the name of the file containing the initial pattern, which is expected to be in the 'patterns' folder. This allows us to store here more initial conditions and study the mergent patterns of the GoL.\n",
    "\n",
    "3. **evo_steps:**\n",
    "`evo_steps` represents the number of steps or generations the simulation will compute: this is a crucial parameter in order to see the emergent patterns, in particular the most complicated ones that have a long period of evolution. \n",
    "\n",
    "4. **time_per_image:**\n",
    "`time_per_image` sets the time duration for each image in the animation (in seconds)."
   ]
  },
  {
   "cell_type": "markdown",
   "metadata": {},
   "source": [
    "### Pattern inizialization"
   ]
  },
  {
   "cell_type": "code",
   "execution_count": 3,
   "metadata": {},
   "outputs": [],
   "source": [
    "def read_file(pattern_name):\n",
    "    cwd=os.getcwd()\n",
    "    #print(cwd)\n",
    "    file_path = os.path.join(cwd, 'patterns', f'{pattern_name}.txt')\n",
    "\n",
    "    max_height=0\n",
    "    max_width=0\n",
    "\n",
    "    with open(file_path, 'r') as file:\n",
    "        for line in file:\n",
    "            cleaned_line=line.replace(\"\\n\", \"\")\n",
    "            len_line=int(len(cleaned_line))\n",
    "            if(len_line>max_width):\n",
    "                    max_width=len_line\n",
    "            max_height+=1\n",
    "\n",
    "    pattern=np.zeros(shape=(max_height,max_width))\n",
    "\n",
    "    with open(file_path, 'r') as file:\n",
    "        for i,line in enumerate(file):\n",
    "            cleaned_line=line.replace(\"\\n\", \"\")\n",
    "            for j,char in enumerate(cleaned_line):\n",
    "                pattern[i,j]=char\n",
    "\n",
    "    return max_height,max_width,pattern"
   ]
  },
  {
   "cell_type": "markdown",
   "metadata": {},
   "source": [
    "The `read_file` function is designed to read a text file containing an initial pattern for Conway's Game of Life. \n",
    "\n",
    "1. **Current Working Directory and File Path:**\n",
    "   - `cwd = os.getcwd()`: Retrieves the current working directory.\n",
    "   - `file_path = os.path.join(cwd, 'patterns', f'{pattern_name}.txt')`: Constructs the absolute file path by joining the current working directory, the 'patterns' folder, and the specified pattern file name (with a '.txt' extension).\n",
    "\n",
    "2. **Determine Pattern Dimensions:**\n",
    "   - `max_height=0` and `max_width=0`: Initialize variables to store the maximum height and width of the pattern.\n",
    "   - Then, a loop reads through each line of the chosen pattern file and calculates the maximum width based on the length of each line. First of all, the line breaks ('\\n') are removed to get the cleaned line.\n",
    "   - `if(int(len(cleaned_line))>max_width)`: Updates `max_width` if the length of the cleaned line is greater than the current maximum width.\n",
    "   - `max_height+=1`: Increments `max_height` for each line, representing the total number of lines in the initial pattern.\n",
    "\n",
    "3. **Initialize Pattern Array:**\n",
    "   - `pattern=np.zeros(shape=(max_height,max_width))`: Creates a NumPy array filled with zeros, representing the grid for the Game of Life with dimensions determined by `max_height` and `max_width`.\n",
    "\n",
    "4. **Read and Populate Pattern Array:**\n",
    "   - Two loops read through each line of the pattern file again (as in step 2).\n",
    "   - The outer loop iterates over lines, and the inner loop iterates over characters in each line.\n",
    "   - `pattern[i, j] = char`: Populates the `pattern` array with the characters from the pattern file, where '1' represents a live cell and '0' represents a dead cell.\n",
    "\n",
    "5. **Return Results:**\n",
    "   - Returns the maximum height, maximum width, and the populated pattern array."
   ]
  },
  {
   "cell_type": "markdown",
   "metadata": {},
   "source": [
    "### Board inizialization"
   ]
  },
  {
   "cell_type": "code",
   "execution_count": 4,
   "metadata": {},
   "outputs": [],
   "source": [
    "def board_init(x_dim, y_dim, pattern_name):\n",
    "    max_height,max_width,pattern=read_file(pattern_name)\n",
    "\n",
    "    if(max_height>y_dim or max_width>x_dim):\n",
    "        raise(ValueError(f\"The dimensions of the pattern are too big for the simulated space.\\nThe dimensions of the space are:\\nX:\\t{x_dim}\\nY:\\t{y_dim}\\n\\nThe dimensions of the pattern are:\\nX:\\t{max_width}\\nY:\\t{max_height}\"))\n",
    "\n",
    "    center_space_x=int(x_dim/2)\n",
    "    center_space_y=int(y_dim/2)\n",
    "    center_pattern_x=int(max_width/2)\n",
    "    center_pattern_y=int(max_height/2)\n",
    "\n",
    "    board=np.zeros(shape=(x_dim,y_dim))\n",
    "\n",
    "    start_x = center_space_x - center_pattern_x\n",
    "    end_x = start_x + max_width\n",
    "    start_y = center_space_y - center_pattern_y\n",
    "    end_y = start_y + max_height\n",
    "\n",
    "    board[start_y:end_y, start_x:end_x] = pattern\n",
    "    \n",
    "    return board"
   ]
  },
  {
   "cell_type": "markdown",
   "metadata": {},
   "source": [
    "The `board_init` function is designed to initialize the board based on specified dimensions and a given pattern read from a file; in particular it ensures that the initial state of the Game of Life is centered within the specified grid dimensions. This choice is due to the fact that the rules change for the limit of the grid (the cells don't have 8 neighbours anymore), so we want to minimize this effect.\n",
    "\n",
    "1. **Input Parameters:**\n",
    "   - `x_dim`: The width (number of columns) of the Game of Life board.\n",
    "   - `y_dim`: The height (number of rows) of the Game of Life board.\n",
    "   - `pattern_name`: The name of the pattern file to be read and initialized on the board.\n",
    "\n",
    "2. **Pattern Retrieval:**\n",
    "   - Calls the `read_file` function (previously explained) to obtain information about the pattern, in particular its maximum height, maximum width, and the pattern itself.\n",
    "\n",
    "3. **Pattern and Space Dimension Check:**\n",
    "   - `if(max_height > y_dim or max_width > x_dim):`: Checks if the dimensions of the pattern exceed the dimensions of the simulated space specified in the parameters.\n",
    "   - `raise(ValueError(f\"The dimensions of the pattern...))`: Raises a `ValueError` if the pattern dimensions are too large, providing information about the simulated space dimensions and the pattern dimensions.\n",
    "\n",
    "4. **Centering Calculation:**\n",
    "   - Calculates the starting positions (`start_x`, `end_x`, `start_y`, `end_y`) to place the pattern at the center of the Game of Life space.\n",
    "\n",
    "5. **Board Initialization:**\n",
    "   - Initializes a Game of Life board with zeros using NumPy.\n",
    "   - Copies the pattern onto the board at the calculated positions, effectively placing it in the center.\n",
    "\n",
    "6. **Output:**\n",
    "   - Returns the initialized Game of Life board."
   ]
  },
  {
   "cell_type": "markdown",
   "metadata": {},
   "source": [
    "### Board evolution"
   ]
  },
  {
   "cell_type": "code",
   "execution_count": 5,
   "metadata": {},
   "outputs": [],
   "source": [
    "def alive_neighbours(board_old,j,k):\n",
    "    count=0\n",
    "    for l in range(-1, 2):\n",
    "        for m in range(-1, 2):\n",
    "            if l == 0 and m == 0:\n",
    "                continue\n",
    "            new_row, new_col = j + l, k + m\n",
    "            if 0 <= new_row < len(board_old) and 0 <= new_col < len(board_old[0]) and board_old[new_row, new_col] == 1:\n",
    "                count += 1\n",
    "    return count\n",
    "\n",
    "def cell_evolution(board_old,j,k,count):\n",
    "    if(board_old[j,k]==0 and count==3):                             #dead cell\n",
    "        evolved_value=1\n",
    "    elif(board_old[j,k]==1 and (count<2 or count>3)):               #alive cell\n",
    "        evolved_value=0\n",
    "    else:\n",
    "        evolved_value=board_old[j,k]\n",
    "    \n",
    "    return evolved_value\n",
    "\n",
    "\n",
    "def board_evolut(evo_steps, board_in):\n",
    "    board_evo=[board_in]\n",
    "    \n",
    "    for i in range(evo_steps):\n",
    "        board_old=board_evo[-1]\n",
    "        board_new=board_old.copy()\n",
    "        for j in range(len(board_old)):\n",
    "            for k in range(len(board_old[j])):\n",
    "                #calculate number of alive and dead neighbours\n",
    "                count_alive=alive_neighbours(board_old,j,k)\n",
    "                #calculate evolution of cell (only cases where the value of the cell is changed because board_new is a copy of board_old)\n",
    "                board_new[j,k]=cell_evolution(board_old,j,k,count_alive)\n",
    "        board_evo.append(board_new)\n",
    "    \n",
    "    return board_evo"
   ]
  },
  {
   "cell_type": "markdown",
   "metadata": {},
   "source": [
    "This section of the code manages the evolution of the board over the specified number of steps; the evolution is carried out using three functions (`alive_neighbours`, `cell_evolution`, and `board_evolut`), following the rules explained in the introduction.\n",
    "\n",
    "1. **`alive_neighbours` function:**\n",
    "   - This function takes the current coordinates `(j, k)` of a cell on the board (`board_old`) and calculates the number of alive neighbours surrounding that cell.\n",
    "   - It iterates over the neighbouring cells in a 3x3 grid (excluding the central cell) and increments the count if the neighbouring cell is alive.\n",
    "   - Returns the count of alive neighbors.\n",
    "\n",
    "2. **`cell_evolution` function:**\n",
    "   - Given the current state of a cell (`board_old[j, k]`), the count of alive neighbors, and the predefined rules of Conway's Game of Life, this function determines the next state of the cell after one time step.\n",
    "   - If the cell is currently dead (`board_old[j, k] == 0`) and has exactly three alive neighbors, it becomes alive. If the cell is currently alive (`board_old[j, k] == 1`) and has fewer than two or more than three alive neighbors, it dies. Otherwise, the cell retains its current state.\n",
    "   - Returns the evolved value of the cell.\n",
    "\n",
    "3. **`board_evolut` function:**\n",
    "   - This function simulates the evolution of the Game of Life board over a specified number of time steps (`evo_steps`).\n",
    "   - It initializes a list (`board_evo`) with the initial board state (`board_in`).\n",
    "   - For each time step, it creates a new board (`board_new`) based on the rules of the Game of Life by applying the `cell_evolution` function to each cell and appends the new board to the list of evolved boards (`board_evo`).\n",
    "   - Returns the list of board states representing the evolution of the Game of Life."
   ]
  },
  {
   "cell_type": "markdown",
   "metadata": {},
   "source": [
    "### Visualization"
   ]
  },
  {
   "cell_type": "code",
   "execution_count": 6,
   "metadata": {},
   "outputs": [],
   "source": [
    "\n",
    "def update(step, im, ax, board_evo):    \n",
    "    im.set_array(board_evo[step])\n",
    "    ax.set_title(f\"Step number {step}\")\n",
    "    return im,  # return the artists to be updated\n",
    "\n",
    "\n",
    "def board_gif(x_dim, y_dim, time_per_image, evo_steps, board_evo, pattern_name):\n",
    "    cwd=os.getcwd()\n",
    "    file_path = os.path.join(cwd, 'outputs/pattern_evolutions', f'{pattern_name}_evolution.gif')\n",
    "\n",
    "    fps=int(1/time_per_image)\n",
    "    fig, ax = plt.subplots()\n",
    "    im = ax.matshow(board_evo[0], cmap=plt.cm.Blues, extent=(0, board_evo[0].shape[1], board_evo[0].shape[0], 0))\n",
    "    fig.colorbar(im)\n",
    "    ax.grid()\n",
    "    ax.set_xticks(np.arange(0, x_dim + 1, 1))\n",
    "    ax.set_yticks(np.arange(0, y_dim + 1, 1))\n",
    "    ani = anim.FuncAnimation(fig, update, fargs=(im,ax,board_evo,), frames=evo_steps+1, repeat=False, interval=time_per_image*1000)\n",
    "    \n",
    "    ani.save(file_path, writer='pillow',fps=fps)\n",
    "    plt.close(fig)\n",
    "    return None\n",
    "\n",
    "\n",
    "def board_visual(board_evo):\n",
    "    cwd=os.getcwd()\n",
    "\n",
    "    for i,element in enumerate(board_evo):\n",
    "        #print(element)\n",
    "        #print(\"##########################\")\n",
    "        fig, ax = plt.subplots()\n",
    "        cax = ax.matshow(element, cmap=plt.cm.Blues, extent=(0, element.shape[1], element.shape[0], 0))\n",
    "        #fig.colorbar(cax)\n",
    "        plt.grid()\n",
    "\n",
    "        plt.xticks(np.arange(0,x_dim + 1, 1))\n",
    "        plt.yticks(np.arange(0,y_dim + 1, 1))\n",
    "        plt.title(f\"Step number {i}\")\n",
    "\n",
    "        file_path = os.path.join(cwd, 'outputs/steps', f'Step number {i}.png')\n",
    "        plt.savefig(file_path)\n",
    "        plt.show()\n",
    "    return None"
   ]
  },
  {
   "cell_type": "markdown",
   "metadata": {},
   "source": [
    "These functions provide different methods for visualizing the evolution of the Game of Life board: a dynamic animation in the form of a GIF (`board_gif`) and a sequence of static images (`board_visual`). The `update` function plays a crucial role in updating the visualization at each step of the animation.\n",
    "\n",
    "1. **`update` function:**\n",
    "   - This function is used as an update method for the animation (`FuncAnimation`). It takes the current step, the `Image` object (`im`), the `Axis` object (`ax`), and the list of board states (`board_evo`).\n",
    "   - It updates the `im` object with the current state of the board at the specified step and sets the title of the plot to indicate the step number.\n",
    "   - The updated `im` object is returned to be used in the animation.\n",
    "\n",
    "2. **`board_gif` function:**\n",
    "   - This function generates a GIF animation of the Game of Life board evolution.\n",
    "   - It creates a Matplotlib figure and axis (`fig, ax`) and initializes an `Image` object (`im`) with the first board state.\n",
    "   - It uses `FuncAnimation` to update the board at each step by calling the `update` function.\n",
    "   - The animation is saved as a GIF file, and the function returns `None`.\n",
    "\n",
    "3. **`board_visual` function:**\n",
    "   - This function visualizes the evolution of the Game of Life board by creating a series of static images.\n",
    "   - It iterates through each board state in `board_evo` and plots the board using `plt.matshow()`.\n",
    "   - Each plot is saved as an image file, and the function displays the static plots one by one.\n",
    "   - This function is useful for creating a sequence of images representing the steps of the board evolution.\n"
   ]
  },
  {
   "cell_type": "markdown",
   "metadata": {},
   "source": [
    "### Simulation"
   ]
  },
  {
   "cell_type": "code",
   "execution_count": 7,
   "metadata": {},
   "outputs": [
    {
     "data": {
      "image/png": "[encoded data removed]",
      "text/plain": [
       "<Figure size 640x480 with 1 Axes>"
      ]
     },
     "metadata": {},
     "output_type": "display_data"
    },
    {
     "data": {
      "image/png": "[encoded data removed]",
      "text/plain": [
       "<Figure size 640x480 with 1 Axes>"
      ]
     },
     "metadata": {},
     "output_type": "display_data"
    },
    {
     "data": {
      "image/png": "[encoded data removed]",
      "text/plain": [
       "<Figure size 640x480 with 1 Axes>"
      ]
     },
     "metadata": {},
     "output_type": "display_data"
    },
    {
     "data": {
      "image/png": "[encoded data removed]",
      "text/plain": [
       "<Figure size 640x480 with 1 Axes>"
      ]
     },
     "metadata": {},
     "output_type": "display_data"
    },
    {
     "data": {
      "image/png": "[encoded data removed]",
      "text/plain": [
       "<Figure size 640x480 with 1 Axes>"
      ]
     },
     "metadata": {},
     "output_type": "display_data"
    },
    {
     "data": {
      "image/png": "[encoded data removed]",
      "text/plain": [
       "<Figure size 640x480 with 1 Axes>"
      ]
     },
     "metadata": {},
     "output_type": "display_data"
    }
   ],
   "source": [
    "board = board_init(x_dim, y_dim, pattern_name)\n",
    "board_evo = board_evolut(evo_steps, board)\n",
    "board_visual(board_evo)\n",
    "board_gif(x_dim, y_dim, time_per_image, evo_steps, board_evo, pattern_name)"
   ]
  },
  {
   "cell_type": "markdown",
   "metadata": {},
   "source": [
    "## Classical patterns"
   ]
  },
  {
   "cell_type": "markdown",
   "metadata": {},
   "source": [
    "Many different types of patterns occur in the Game of Life, which are classified according to their behaviour. Common pattern types include: still lifes, which do not change from one generation to the next; oscillators, which return to their initial state after a finite number of generations; and spaceships, which translate themselves across the grid. We analyzed the most frequently occurring examples (meaning that they emerge frequently from a random starting configuration of cells) of each of those types. More complicated patterns require a bigger board and a lot of steps in order to become periodical."
   ]
  },
  {
   "cell_type": "markdown",
   "metadata": {},
   "source": [
    "### Still lifes"
   ]
  },
  {
   "cell_type": "markdown",
   "metadata": {},
   "source": [
    "A still life is a pattern that does not change from one generation to the next, and thus may be thought of as an oscillator with period 1. The two main subgroups of still lifes are strict still lifes and pseudo still lifes: \n",
    "- a strict still life is a still life that is either connected (i.e., has only one island), or is such that removing one or more its islands destroys the stability of the pattern.\n",
    "- a pseudo still life consists of two or more islands which can be partitioned (either individually or as sets) into non-interacting subpatterns which are by themselves each still lifes."
   ]
  },
  {
   "cell_type": "markdown",
   "metadata": {},
   "source": [
    "**Cube**: The cube is the simplest still life pattern, consisting of four cells arranged in a 2x2 square. It remains unchanged in each generation."
   ]
  },
  {
   "cell_type": "code",
   "execution_count": 8,
   "metadata": {},
   "outputs": [],
   "source": [
    "board = board_init(x_dim, y_dim, \"cube\")\n",
    "board_evo = board_evolut(evo_steps, board)\n",
    "board_gif(x_dim, y_dim, time_per_image, evo_steps, board_evo, \"cube\")"
   ]
  },
  {
   "cell_type": "markdown",
   "metadata": {},
   "source": [
    "![MyGif]( outputs/pattern_evolutions/cube_evolution.gif \"segment\")"
   ]
  },
  {
   "cell_type": "markdown",
   "metadata": {},
   "source": [
    "**Mirrored tables**: it is a 12-cell still life. It is a strict still life because neither table is stable without the other."
   ]
  },
  {
   "cell_type": "code",
   "execution_count": 9,
   "metadata": {},
   "outputs": [],
   "source": [
    "board = board_init(x_dim, y_dim, \"mirrored_tables\")\n",
    "board_evo = board_evolut(evo_steps, board)\n",
    "board_gif(x_dim, y_dim, time_per_image, evo_steps, board_evo, \"mirrored_tables\")"
   ]
  },
  {
   "cell_type": "markdown",
   "metadata": {},
   "source": [
    "![MyGif]( outputs/pattern_evolutions/mirrored_tables_evolution.gif \"segment\")"
   ]
  },
  {
   "cell_type": "markdown",
   "metadata": {},
   "source": [
    "**Cis-mirrored elf shoe**: The cis-mirrored elf-shoe is a strict still life composed of 34 cells, comprising two elf-shoes that mutually stabilize each other. It represents one of five possible arrangements where two elf-shoes combine to form a still life. This particular isomer, termed cis-mirrored, derives its name from the absence of skewness between the two adjacent faces (thus \"mirrored\") and the alignment of the denser components on the same side (thus \"cis\"). Consequently, among the five arrangements, it stands as the sole configuration exhibiting mirror symmetry."
   ]
  },
  {
   "cell_type": "code",
   "execution_count": 10,
   "metadata": {},
   "outputs": [],
   "source": [
    "board = board_init(x_dim, y_dim, \"cis_mirrored_elf_shoe\")\n",
    "board_evo = board_evolut(evo_steps, board)\n",
    "board_gif(x_dim, y_dim, time_per_image, evo_steps, board_evo, \"cis_mirrored_elf_shoe\")"
   ]
  },
  {
   "cell_type": "markdown",
   "metadata": {},
   "source": [
    "![MyGif]( outputs/pattern_evolutions/cis_mirrored_elf_shoe_evolution.gif \"segment\")"
   ]
  },
  {
   "cell_type": "markdown",
   "metadata": {},
   "source": [
    "**Bi-block**: The bi-block is a common formation of two blocks and the smallest and most common pseudo still life. It is a pseudo still life because each block is stable by itself."
   ]
  },
  {
   "cell_type": "code",
   "execution_count": 11,
   "metadata": {},
   "outputs": [],
   "source": [
    "board = board_init(x_dim, y_dim, \"bi_block\")\n",
    "board_evo = board_evolut(evo_steps, board)\n",
    "board_gif(x_dim, y_dim, time_per_image, evo_steps, board_evo, \"bi_block\")"
   ]
  },
  {
   "cell_type": "markdown",
   "metadata": {},
   "source": [
    "![MyGif]( outputs/pattern_evolutions/bi_block_evolution.gif \"segment\")"
   ]
  },
  {
   "cell_type": "markdown",
   "metadata": {},
   "source": [
    "### Oscillators"
   ]
  },
  {
   "cell_type": "markdown",
   "metadata": {},
   "source": [
    "An oscillator is a pattern that repeats itself after a fixed number of generations (known as its period).  An oscillator is divided into a rotor (the individual cells that actually oscillate) and a stator (the cells which remain alive throughout its whole period)."
   ]
  },
  {
   "cell_type": "markdown",
   "metadata": {},
   "source": [
    "**Blinker**: The blinker is the smallest and most common oscillator, found by John Conway in 1969. It is the only known finite oscillator that is one cell thick."
   ]
  },
  {
   "cell_type": "code",
   "execution_count": 12,
   "metadata": {},
   "outputs": [],
   "source": [
    "board = board_init(x_dim, y_dim, \"blinker\")\n",
    "board_evo = board_evolut(evo_steps, board)\n",
    "board_gif(x_dim, y_dim, time_per_image, evo_steps, board_evo, \"blinker\")"
   ]
  },
  {
   "cell_type": "markdown",
   "metadata": {},
   "source": [
    "![MyGif]( outputs/pattern_evolutions/blinker_evolution.gif \"segment\")"
   ]
  },
  {
   "cell_type": "markdown",
   "metadata": {},
   "source": [
    "**Caterer**: Caterer is the smallest period-3 oscillator."
   ]
  },
  {
   "cell_type": "code",
   "execution_count": 13,
   "metadata": {},
   "outputs": [],
   "source": [
    "board = board_init(x_dim, y_dim, \"caterer\")\n",
    "board_evo = board_evolut(evo_steps, board)\n",
    "board_gif(x_dim, y_dim, time_per_image, evo_steps, board_evo, \"caterer\")"
   ]
  },
  {
   "cell_type": "markdown",
   "metadata": {},
   "source": [
    "![MyGif]( outputs/pattern_evolutions/caterer_evolution.gif \"segment\")"
   ]
  },
  {
   "cell_type": "markdown",
   "metadata": {},
   "source": [
    "### Spaceships"
   ]
  },
  {
   "cell_type": "markdown",
   "metadata": {},
   "source": [
    "A spaceship is a finite pattern that returns to its initial state after a number of generations (known as its period) but in a different location. The speed of a spaceship is the number of cells that the pattern moves during its period, divided by the period length. This is expressed in terms of c (the metaphorical \"speed of light\") which is one cell per generation."
   ]
  },
  {
   "cell_type": "markdown",
   "metadata": {},
   "source": [
    "**Glider**:The glider is the smallest, most common, and first-discovered spaceship in Game of Life. It travels diagonally across the grid at a speed of c/4."
   ]
  },
  {
   "cell_type": "code",
   "execution_count": 14,
   "metadata": {},
   "outputs": [],
   "source": [
    "board = board_init(x_dim, y_dim, \"glider\")\n",
    "board_evo = board_evolut(evo_steps, board)\n",
    "board_gif(x_dim, y_dim, time_per_image, evo_steps, board_evo, \"glider\")"
   ]
  },
  {
   "cell_type": "markdown",
   "metadata": {},
   "source": [
    "![MyGif]( outputs/pattern_evolutions/glider_evolution.gif \"segment\")"
   ]
  },
  {
   "cell_type": "markdown",
   "metadata": {},
   "source": [
    "**Lightweight spaceship**: the lightweight spaceship (commonly abbreviated to LWSS) or (rarely) small fish[1] is the smallest orthogonal spaceship, and the second most common spaceship after the glider. It moves at speed c/2 and has period 4"
   ]
  },
  {
   "cell_type": "code",
   "execution_count": 15,
   "metadata": {},
   "outputs": [],
   "source": [
    "board = board_init(x_dim, y_dim, \"lightweight\")\n",
    "board_evo = board_evolut(evo_steps, board)\n",
    "board_gif(x_dim, y_dim, time_per_image, evo_steps, board_evo, \"lightweight\")"
   ]
  },
  {
   "cell_type": "markdown",
   "metadata": {},
   "source": [
    "![MyGif]( outputs/pattern_evolutions/lightweight_evolution.gif \"segment\")"
   ]
  },
  {
   "cell_type": "markdown",
   "metadata": {},
   "source": [
    "## Semi-quantum version\n",
    "\n",
    "A semi-quantum version can be obtained considering deterministic dynamics applied to quantum states; we based our analysis on the following article: https://arxiv.org/abs/1902.07835 .\n",
    "\n",
    "In order to construct this model we need to modify Conway's Game of Life in order for each cell to be considered a quantum state ($\\ket{\\psi}$); in particular, each cell can be tought as a qubit, the quantum unit of information: this means that each cell can either be alive ($\\ket{\\psi}=\\ket{1}$), dead ($\\ket{\\psi}=\\ket{0}$) or in a superposition of the two states. \n",
    "\n",
    "$\\ket{\\psi} = a\\ket{1} + b \\ket{0} = a \\begin{pmatrix} 1 \\\\ 0 \\end{pmatrix} + b \\begin{pmatrix} 0 \\\\ 1 \\end{pmatrix} = \\begin{pmatrix} a \\\\ b \\end{pmatrix}$. \n",
    "\n",
    "This means that we can have semi-life cells and their 'liveness' is described by the coefficient $a$, while their 'deadness' by the coefficient $b$. Here $a$ and $b$ are positive real constants and each of these states is normalised, so we will always have $a + b = 1$."
   ]
  },
  {
   "cell_type": "markdown",
   "metadata": {},
   "source": [
    "The evolutionary rules are different from the classical version and are based on the operators of birth ($\\hat{B}$), death ($\\hat{D}$), and survival ($\\hat{S}$). The application of each operators also includes a normalisation step so that: $\\quad \\hat{B} \\ket{\\psi} = \\ket{1} \\quad \\hat{D} \\ket{\\psi} = \\ket{0} \\quad \\hat{S} \\ket{\\psi} = \\ket{\\psi}$.\n",
    "\n",
    "The matricial form of the operator is: $\\quad \\hat{B} = \\begin{pmatrix} 1 & 1 \\\\ 0 & 0 \\end{pmatrix} \\quad \\hat{D} = \\begin{pmatrix} 0 & 0 \\\\ 1 & 1 \\end{pmatrix} \\quad \\hat{S} = \\begin{pmatrix} 1 & 0 \\\\ 0 & 1 \\end{pmatrix}$\n"
   ]
  },
  {
   "cell_type": "markdown",
   "metadata": {},
   "source": [
    "As in the classical version the rules depend on the state of the 8 neighbours of each cell; in the semi-quantum version this depenendcy is on the total liveness, $A$, of the Moore neighbourhood defined as $A = \\sum_{k=1}^8 a_k$ where $a_k$ is the liveness of the $k^{th}$ cell in the Moore neighbourhood. The semi-quantum rules reproduce the classical rules if $A$ is an integer value.\n",
    "\n",
    "The next generation is obtained using the operation $\\begin{pmatrix} a' \\\\ b' \\end{pmatrix} = \\hat{G} \\begin{pmatrix} a \\\\ b \\end{pmatrix}$, where the operator $\\hat{G}$ changes according to the value of $A$. These rules describe a completely deterministic dynamics and not quantum, so we are studying the behaviour of our quantum board in a classical regime, as we can see in the following table:"
   ]
  },
  {
   "cell_type": "markdown",
   "metadata": {},
   "source": [
    "|        **A**        |          $\\hat{G}$           |\n",
    "|:---------------:|:---------------------------:|\n",
    "| $0 \\leq A \\leq 1$ |           $\\hat{D}$           |\n",
    "| $1 < A \\leq 2$   | $(\\sqrt{2} + 1)(2-A)\\hat{D} + (A-1)\\hat{S}$ |\n",
    "| $2 < A \\leq 3$   | $(\\sqrt{2} + 1)(3-A)\\hat{S} + (A-2)\\hat{B}$ |\n",
    "| $3 < A \\leq 4$   | $(\\sqrt{2} + 1)(4-A)\\hat{B} + (A-3)\\hat{D}$ |\n",
    "|     $A \\geq 4$     |           $\\hat{D}$           |"
   ]
  },
  {
   "cell_type": "markdown",
   "metadata": {},
   "source": [
    "In order to implement the semi-quantum version we had to modify the classical code, in particular the functions that handle the initialization and the evolution of the board. Thus, we added a new paramater, `game_type`, which tells us which version of the game we are considering."
   ]
  },
  {
   "cell_type": "markdown",
   "metadata": {},
   "source": [
    "### Parameters zone"
   ]
  },
  {
   "cell_type": "code",
   "execution_count": 16,
   "metadata": {},
   "outputs": [],
   "source": [
    "x_dim=20\n",
    "y_dim=20          \n",
    "pattern_name=\"provaquantum\"\n",
    "evo_steps=40\n",
    "time_per_image=0.5\n",
    "game_type=\"quantum\""
   ]
  },
  {
   "cell_type": "markdown",
   "metadata": {},
   "source": [
    "### Pattern inizialization"
   ]
  },
  {
   "cell_type": "code",
   "execution_count": 17,
   "metadata": {},
   "outputs": [],
   "source": [
    "def read_file(pattern_name,game_type):\n",
    "    cwd=os.getcwd()\n",
    "    file_path = os.path.join(cwd, 'patterns', f'{pattern_name}.txt')\n",
    "\n",
    "    max_height=0\n",
    "    max_width=0\n",
    "\n",
    "    with open(file_path, 'r') as file:\n",
    "        for line in file:\n",
    "            cleaned_line=line.replace(\"\\n\", \"\")\n",
    "            if(game_type==\"classical\"):\n",
    "                len_line=int(len(cleaned_line))\n",
    "            elif(game_type==\"quantum\"):\n",
    "                len_line=len([float(digit) for digit in cleaned_line.split(sep= \" \")])\n",
    "            if(len_line>max_width):\n",
    "                    max_width=len_line\n",
    "            max_height+=1\n",
    "\n",
    "    pattern=np.zeros(shape=(max_height,max_width))\n",
    "\n",
    "    with open(file_path, 'r') as file:\n",
    "        for i,line in enumerate(file):\n",
    "            cleaned_line=line.replace(\"\\n\", \"\")\n",
    "            if(game_type==\"quantum\"):\n",
    "                cleaned_line=[float(digit) for digit in cleaned_line.split(sep= \" \")]\n",
    "            for j,char in enumerate(cleaned_line):\n",
    "                pattern[i,j]=char\n",
    "\n",
    "    return max_height,max_width,pattern"
   ]
  },
  {
   "cell_type": "markdown",
   "metadata": {},
   "source": [
    "The adjustment we made regards the reading from file: in particular for the quantum version we want to initialize and visualize on the board the liveness of each cell (parameter $a$), so we must use floating point and not binary frank digits. In particular:\n",
    "\n",
    "1. **Pattern Dimensions Calculation:**\n",
    "   - For the \"quantum\" game type, it counts the number of float values obtained by splitting each line using space as a separator.\n",
    "\n",
    "2. **Pattern Population:**\n",
    "   - For the \"quantum\" game type, it converts the space-separated string of numbers into a list of floats."
   ]
  },
  {
   "cell_type": "markdown",
   "metadata": {},
   "source": [
    "### Board inizialization"
   ]
  },
  {
   "cell_type": "code",
   "execution_count": 18,
   "metadata": {},
   "outputs": [],
   "source": [
    "def board_init(x_dim, y_dim, pattern_name, game_type):\n",
    "    max_height,max_width,pattern=read_file(pattern_name, game_type)\n",
    "\n",
    "    if(max_height>y_dim or max_width>x_dim):\n",
    "        raise(ValueError(f\"The dimensions of the pattern are too big for the simulated space.\\nThe dimensions of the space are:\\nX:\\t{x_dim}\\nY:\\t{y_dim}\\n\\nThe dimensions of the pattern are:\\nX:\\t{max_width}\\nY:\\t{max_height}\"))\n",
    "\n",
    "    center_space_x=int(x_dim/2)\n",
    "    center_space_y=int(y_dim/2)\n",
    "    center_pattern_x=int(max_width/2)\n",
    "    center_pattern_y=int(max_height/2)\n",
    "\n",
    "    board=np.zeros(shape=(x_dim,y_dim))\n",
    "\n",
    "    start_x = center_space_x - center_pattern_x\n",
    "    end_x = start_x + max_width\n",
    "    start_y = center_space_y - center_pattern_y\n",
    "    end_y = start_y + max_height\n",
    "\n",
    "    board[start_y:end_y, start_x:end_x] = pattern\n",
    "    \n",
    "    return board"
   ]
  },
  {
   "cell_type": "markdown",
   "metadata": {},
   "source": [
    "The function `board_init` remains unchanged, except for the call to the `read_file` function, which now has the `game_type` parameter."
   ]
  },
  {
   "cell_type": "markdown",
   "metadata": {},
   "source": [
    "### Board evolution"
   ]
  },
  {
   "cell_type": "code",
   "execution_count": 19,
   "metadata": {},
   "outputs": [],
   "source": [
    "def alive_neighbours(board_old,j,k,game_type):\n",
    "    count=0\n",
    "    for l in range(-1, 2):\n",
    "        for m in range(-1, 2):\n",
    "            if l == 0 and m == 0:\n",
    "                continue\n",
    "            new_row, new_col = j + l, k + m\n",
    "            if(game_type==\"classical\"):\n",
    "                if 0 <= new_row < len(board_old) and 0 <= new_col < len(board_old[0]) and board_old[new_row, new_col] == 1:\n",
    "                    count += 1\n",
    "            if(game_type==\"quantum\"):\n",
    "                if 0 <= new_row < len(board_old) and 0 <= new_col < len(board_old[0]):\n",
    "                    count += board_old[new_row,new_col]\n",
    "    return count\n",
    "\n",
    "def cell_evolution(board_old,j,k,count,game_type):\n",
    "    if(game_type==\"classical\"):\n",
    "        if(board_old[j,k]==0 and count==3):                             #dead cell\n",
    "            evolved_value=1\n",
    "        elif(board_old[j,k]==1 and (count<2 or count>3)):               #alive cell\n",
    "            evolved_value=0\n",
    "        else:\n",
    "            evolved_value=board_old[j,k]\n",
    "    elif (game_type==\"quantum\"):\n",
    "        B=np.array([[1.,1.],[0.,0.]])\n",
    "        D=np.array([[0.,0.],[1.,1.]])\n",
    "        S=np.array([[1.,0.],[0.,1.]])\n",
    "        G=np.zeros_like(B)\n",
    "        if(count>=0 and count<=1):\n",
    "            G=D\n",
    "        elif(count>1 and count<=2):\n",
    "            G=(np.sqrt(2)+1)*(2-count)*D + (count-1)*S\n",
    "        elif(count>2 and count<=3):\n",
    "            G=(np.sqrt(2)+1)*(3-count)*S + (count-2)*B\n",
    "        elif(count>3 and count<=4):\n",
    "            G=(np.sqrt(2)+1)*(4-count)*B + (count-3)*D\n",
    "        elif(count>4):\n",
    "            G=D\n",
    "        evolved_value=np.dot(G,np.array([board_old[j,k],1-board_old[j,k]]))\n",
    "        if np.sum(evolved_value) != 0:\n",
    "            evolved_value /= np.sum(evolved_value)\n",
    "    return evolved_value[0]\n",
    "\n",
    "def board_evolut(evo_steps, board_in, game_type):\n",
    "    board_evo=[board_in]\n",
    "\n",
    "    for i in range(evo_steps):\n",
    "        board_old=board_evo[-1]\n",
    "        board_new=board_old.copy()\n",
    "        for j in range(len(board_old)):\n",
    "            for k in range(len(board_old[j])):\n",
    "                count_alive=alive_neighbours(board_old,j,k,game_type)\n",
    "                board_new[j,k]=cell_evolution(board_old,j,k,count_alive, game_type)\n",
    "        board_evo.append(board_new)\n",
    "    \n",
    "    return board_evo"
   ]
  },
  {
   "cell_type": "markdown",
   "metadata": {},
   "source": [
    "In the evolution we included the new paramater and the rules defined before for the semi-quantum model.\n",
    "\n",
    "1. **`alive_neighbours`:**\n",
    "   - For the 'quantum' game type, it iterates over neighbouring cells and sums all their liveness values, in order to compute the value of $A$.\n",
    "\n",
    "2. **`cell_evolution`:**\n",
    "   - For the \"quantum\" game type, it uses the aforementioned quantum-inspired rules represented by matrices (`B`, `D`, `S`, `G`), which depend on the value of $A$.\n",
    "\n",
    "3. **`board_evolut`:**\n",
    "   - This function stays the same, with the only difference of including as new parameter the specified `game_type`."
   ]
  },
  {
   "cell_type": "markdown",
   "metadata": {},
   "source": [
    "### Visualization\n",
    "\n",
    "The functions that handle the visualization are the same as before; in the quantum-version the colorbar is useful to describe the differrent values of the parameters $a$ of each cell."
   ]
  },
  {
   "cell_type": "markdown",
   "metadata": {},
   "source": [
    "### Simulation"
   ]
  },
  {
   "cell_type": "code",
   "execution_count": 20,
   "metadata": {},
   "outputs": [],
   "source": [
    "board = board_init(x_dim, y_dim, \"provaquantum\", game_type)\n",
    "board_evo = board_evolut(evo_steps, board, game_type)\n",
    "# board_visual(board_evo)\n",
    "board_gif(x_dim, y_dim, time_per_image, evo_steps, board_evo, \"provaquantum\")"
   ]
  },
  {
   "cell_type": "markdown",
   "metadata": {},
   "source": [
    "![MyGif]( outputs/pattern_evolutions/provaquantum_evolution.gif \"segment\")"
   ]
  },
  {
   "cell_type": "markdown",
   "metadata": {},
   "source": [
    "## Semi-quantum patterns"
   ]
  },
  {
   "cell_type": "markdown",
   "metadata": {},
   "source": [
    "Also in the semi-quantum simulation we can find some emerging patterns, even though the evolution is much more complicated due to the infinite values a single cell can have. We tried to study some patterns.\n",
    "\n",
    "As expected, all classical patterns are perfectly reproduced in the quantum version of the game (the rules are built exactly in this way). "
   ]
  },
  {
   "cell_type": "markdown",
   "metadata": {},
   "source": [
    "### Still lives"
   ]
  },
  {
   "cell_type": "markdown",
   "metadata": {},
   "source": [
    "For the quantum case, as often happens, we see a flourish of cases of still lifes; we report some of them that can be easily found."
   ]
  },
  {
   "cell_type": "markdown",
   "metadata": {},
   "source": [
    "**Qudot**: the central cell is fixed to 1, while the four cross-adjacent cells are fixed to 0.5."
   ]
  },
  {
   "cell_type": "code",
   "execution_count": 21,
   "metadata": {},
   "outputs": [],
   "source": [
    "board = board_init(x_dim, y_dim, \"qudot\", game_type)\n",
    "board_evo = board_evolut(evo_steps, board, game_type)\n",
    "# board_visual(board_evo)\n",
    "board_gif(x_dim, y_dim, time_per_image, evo_steps, board_evo, \"qudot\")"
   ]
  },
  {
   "cell_type": "markdown",
   "metadata": {},
   "source": [
    "![MyGif]( outputs/pattern_evolutions/qudot_evolution.gif \"segment\")"
   ]
  },
  {
   "cell_type": "markdown",
   "metadata": {},
   "source": [
    "**Qutub**: we fix 4 cells to 1 (cross-like, with the center fixed to 0) and the 4 angle-cells have random value (less then one), with the additional condition that their two-by-two sum is less than one."
   ]
  },
  {
   "cell_type": "code",
   "execution_count": 22,
   "metadata": {},
   "outputs": [],
   "source": [
    "board = board_init(x_dim, y_dim, \"qutub\", game_type)\n",
    "board_evo = board_evolut(evo_steps, board, game_type)\n",
    "# board_visual(board_evo)\n",
    "board_gif(x_dim, y_dim, time_per_image, evo_steps, board_evo, \"qutub\")"
   ]
  },
  {
   "cell_type": "markdown",
   "metadata": {},
   "source": [
    "![MyGif]( outputs/pattern_evolutions/qutub_evolution.gif \"segment\")"
   ]
  },
  {
   "cell_type": "markdown",
   "metadata": {},
   "source": [
    "**Qunoe**: more complicated example."
   ]
  },
  {
   "cell_type": "code",
   "execution_count": 23,
   "metadata": {},
   "outputs": [],
   "source": [
    "board = board_init(x_dim, y_dim, \"qunoe\", game_type)\n",
    "board_evo = board_evolut(evo_steps, board, game_type)\n",
    "board_gif(x_dim, y_dim, time_per_image, evo_steps, board_evo, \"qunoe\")"
   ]
  },
  {
   "cell_type": "markdown",
   "metadata": {},
   "source": [
    "![MyGif]( outputs/pattern_evolutions/qunoe_evolution.gif \"segment\")"
   ]
  },
  {
   "cell_type": "markdown",
   "metadata": {},
   "source": [
    "### Other patterns and clouds\n",
    "\n",
    "In the semi-quantum version it's difficult to find moving patterns similar to the classical ones (like oscillators and gliders) due to the flourish of possible values that a single cell can have; for the same reason we couldn't find small repeating pattern that can give birth to moving pattern in the semi-quantum version. Nevertheless, we noticed that for some initial configuration the evolution of the board resambles the one of a 'quantum cloud' that expands from a starting center; in most of the cases we analyse we arrive to the two possible stable conclusion, a stable form or a completly dead board. In the following we present some examples of these behaviours."
   ]
  },
  {
   "cell_type": "code",
   "execution_count": 24,
   "metadata": {},
   "outputs": [],
   "source": [
    "board = board_init(x_dim, y_dim, \"quloud\", game_type)\n",
    "board_evo = board_evolut(evo_steps, board, game_type)\n",
    "board_gif(x_dim, y_dim, time_per_image, evo_steps, board_evo, \"quloud\")"
   ]
  },
  {
   "cell_type": "markdown",
   "metadata": {},
   "source": [
    "![MyGif]( outputs/pattern_evolutions/quloud_evolution.gif \"segment\" )"
   ]
  },
  {
   "cell_type": "code",
   "execution_count": 25,
   "metadata": {},
   "outputs": [],
   "source": [
    "board = board_init(x_dim, y_dim, \"quloud2\", game_type)\n",
    "board_evo = board_evolut(evo_steps + 40, board, game_type)\n",
    "board_gif(x_dim, y_dim, time_per_image, evo_steps + 40, board_evo, \"quloud2\")"
   ]
  },
  {
   "cell_type": "markdown",
   "metadata": {},
   "source": [
    "![MyGif]( outputs/pattern_evolutions/quloud2_evolution.gif \"segment\" )"
   ]
  },
  {
   "cell_type": "markdown",
   "metadata": {},
   "source": [
    "### Stable dynamics\n",
    "\n",
    "Finally we studied whether a stable dynamics can emerge from a randomly initialized board: our goal was to understand if the semi-quantum game of life dynamics depends on which cells are initialized and how or if in any case a stable dynamical situation is reached. In order to do this we have to consider a much bigger grid and a longer time, so we increased these paramaters and then we studied the mean liveness on each generation. \n",
    "\n",
    "In particular, a fraction $f$ of random cells in the grid is initialized with a liveness $a$ chosen via a random number uniformly distributed between 0 and 1."
   ]
  },
  {
   "cell_type": "code",
   "execution_count": 26,
   "metadata": {},
   "outputs": [],
   "source": [
    "x_dim = 100\n",
    "y_dim = 100\n",
    "evo_steps = 350"
   ]
  },
  {
   "cell_type": "code",
   "execution_count": 27,
   "metadata": {},
   "outputs": [],
   "source": [
    "def matrix_generator(x_dim, y_dim, f):\n",
    "    matrix = np.zeros((x_dim, y_dim))\n",
    "    nonzero_values_count = int(x_dim * y_dim * f)\n",
    "    nonzero_indexes = np.random.choice(range(x_dim * y_dim), nonzero_values_count)\n",
    "    \n",
    "    for index in nonzero_indexes:\n",
    "        row = index // y_dim\n",
    "        column = index % y_dim\n",
    "        matrix[row][column] = np.random.uniform(0, 1)\n",
    "    \n",
    "    return matrix\n",
    "\n",
    "def save_matrix(matrix, file_name):\n",
    "    with open(file_name, 'w') as file:\n",
    "        for row in matrix:\n",
    "            formatted_row = ' '.join(map(str, row))\n",
    "            file.write(formatted_row + '\\n')"
   ]
  },
  {
   "cell_type": "markdown",
   "metadata": {},
   "source": [
    "These functions are used to generate a sparse matrix with random non-zero values and save it to a text file which is consistent to the required text file for the previous defined functions that handle the board evolution.\n",
    "\n",
    "1. **`matrix_generation`:**\n",
    "   - This function generates a matrix of dimensions `x_dim` by `y_dim` and the parameter `f` determines the fraction of non-zero values in the matrix.\n",
    "   - It initializes a matrix with all elements set to zero and then randomly assigns non-zero values to a certain percentage of elements based on `f`.\n",
    "   - The generated matrix is returned.\n",
    "\n",
    "2. **`save_matrix`:**\n",
    "   - This function takes a matrix and a file name as input.\n",
    "   - It saves the matrix to a file with the specified name.\n",
    "   - Each row of the matrix is written to the file, with elements separated by spaces."
   ]
  },
  {
   "cell_type": "code",
   "execution_count": 28,
   "metadata": {},
   "outputs": [],
   "source": [
    "def mean_board(board_evo):\n",
    "    averages = []\n",
    "    for board in range(len(board_evo)):\n",
    "        average = np.mean(board_evo[board])\n",
    "        averages.append(average)\n",
    "    return averages\n",
    "\n",
    "def avg_liveness_plot(board_evo, file_name):\n",
    "    average_liveness = mean_board(board_evo)\n",
    "    fig = plt.plot(np.arange(0, len(board_evo), 1), average_liveness)\n",
    "    plt.savefig(f\"{file_name}.png\")\n",
    "    plt.show()\n",
    "    return None"
   ]
  },
  {
   "cell_type": "markdown",
   "metadata": {},
   "source": [
    "These functions help analyze and visualize the average liveness of game boards over time, providing a plot that illustrates how the average liveness changes throughout the evolution of the boards\n",
    "\n",
    "1. **`mean_board`:**\n",
    "   - This function takes a list `board_evo` as input, where each element is a representation of a game board at a particular point in time.\n",
    "   - It calculates the mean value for each board in the evolution and stores the results in a list called `averages`.\n",
    "   - The list of average values is then returned.\n",
    "\n",
    "2. **`avg_liveness_plot`:**\n",
    "   - This function takes a list `board_evo` as input, representing the evolution of game boards over time.\n",
    "   - It calls the `mean_board` function to calculate the average values for each board in the evolution.\n",
    "   - It then creates a plot using `matplotlib.pyplot`, where the x-axis represents the time steps (board indices), and the y-axis represents the average values of liveness.\n",
    "   - The plot is saved as \"`file_name.png`\" and displayed using `plt.show()`."
   ]
  },
  {
   "cell_type": "markdown",
   "metadata": {},
   "source": [
    "We computed mean liveness $<a>$ over the whole board in two cases, for $f=0.2$ and for $f=0.8$"
   ]
  },
  {
   "cell_type": "code",
   "execution_count": 30,
   "metadata": {},
   "outputs": [
    {
     "data": {
      "image/png": "[encoded data removed]",
      "text/plain": [
       "<Figure size 640x480 with 1 Axes>"
      ]
     },
     "metadata": {},
     "output_type": "display_data"
    }
   ],
   "source": [
    "matrix_two = matrix_generator(x_dim, y_dim, 0.2)\n",
    "save_matrix(matrix_two, \"patterns/f20.txt\")\n",
    "\n",
    "board = board_init(x_dim, y_dim, \"f20\", game_type)\n",
    "board_evo = board_evolut(evo_steps, board, game_type)\n",
    "board_gif(x_dim, y_dim, time_per_image, evo_steps, board_evo, \"f20\")\n",
    "\n",
    "avg_liveness_plot(board_evo, 'f20_graph')"
   ]
  },
  {
   "cell_type": "code",
   "execution_count": 31,
   "metadata": {},
   "outputs": [
    {
     "data": {
      "image/png": "[encoded data removed]",
      "text/plain": [
       "<Figure size 640x480 with 1 Axes>"
      ]
     },
     "metadata": {},
     "output_type": "display_data"
    }
   ],
   "source": [
    "matrix = matrix_generator(x_dim, y_dim, 0.8)\n",
    "save_matrix(matrix, \"patterns/f80.txt\")\n",
    "\n",
    "board = board_init(x_dim, y_dim, \"f80\", game_type)\n",
    "board_evo = board_evolut(evo_steps, board, game_type)\n",
    "board_gif(x_dim, y_dim, time_per_image, evo_steps, board_evo, \"f80\")\n",
    "\n",
    "avg_liveness_plot(board_evo, 'f80_graph')"
   ]
  },
  {
   "cell_type": "markdown",
   "metadata": {},
   "source": [
    "As we can see in both cases the mean liveness reaches 0 after a typical time; this allows us to conclude that a stable dynamics can't be found for the semi-quantum version of the game. Nevertheless, a completly quantum version could show different conclusions."
   ]
  }
 ],
 "metadata": {
  "kernelspec": {
   "display_name": "base",
   "language": "python",
   "name": "python3"
  },
  "language_info": {
   "codemirror_mode": {
    "name": "ipython",
    "version": 3
   },
   "file_extension": ".py",
   "mimetype": "text/x-python",
   "name": "python",
   "nbconvert_exporter": "python",
   "pygments_lexer": "ipython3",
   "version": "3.11.5"
  }
 },
 "nbformat": 4,
 "nbformat_minor": 2
}
